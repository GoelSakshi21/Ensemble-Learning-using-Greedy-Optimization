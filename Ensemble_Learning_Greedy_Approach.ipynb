{
  "nbformat": 4,
  "nbformat_minor": 0,
  "metadata": {
    "colab": {
      "provenance": [],
      "include_colab_link": true
    },
    "kernelspec": {
      "name": "python3",
      "display_name": "Python 3"
    },
    "language_info": {
      "name": "python"
    }
  },
  "cells": [
    {
      "cell_type": "markdown",
      "metadata": {
        "id": "view-in-github",
        "colab_type": "text"
      },
      "source": [
        "<a href=\"https://colab.research.google.com/github/GoelSakshi21/Ensemble-Learning-using-Greedy-Optimization/blob/main/Ensemble_Learning_Greedy_Approach.ipynb\" target=\"_parent\"><img src=\"https://colab.research.google.com/assets/colab-badge.svg\" alt=\"Open In Colab\"/></a>"
      ]
    },
    {
      "cell_type": "code",
      "execution_count": null,
      "metadata": {
        "id": "ujXCl1cmFlNO"
      },
      "outputs": [],
      "source": [
        " from numpy import mean\n",
        "from numpy import std\n",
        "from sklearn.datasets import make_classification\n",
        "from sklearn.model_selection import cross_val_score\n",
        "from sklearn.model_selection import RepeatedStratifiedKFold\n",
        "from sklearn.linear_model import LogisticRegression\n",
        "from sklearn.neighbors import KNeighborsClassifier\n",
        "from sklearn.tree import DecisionTreeClassifier\n",
        "from sklearn.svm import SVC\n",
        "from sklearn.naive_bayes import GaussianNB\n",
        "from sklearn.ensemble import VotingClassifier\n",
        "from matplotlib import pyplot\n",
        "import pandas as pd\n",
        "from sklearn.ensemble import VotingClassifier\n",
        "from sklearn import model_selection\n",
        "from sklearn.metrics import confusion_matrix\n",
        "from sklearn. preprocessing import StandardScaler\n",
        "from sklearn.model_selection import train_test_split\n",
        "from sklearn.metrics import accuracy_score\n",
        "from sklearn import metrics\n",
        "import matplotlib.pyplot as plt\n",
        "from sklearn.metrics._plot.confusion_matrix import ConfusionMatrixDisplay\n",
        "\n"
      ]
    },
    {
      "cell_type": "code",
      "source": [
        "from google.colab import drive\n",
        "drive.mount('/content/drive')"
      ],
      "metadata": {
        "colab": {
          "base_uri": "https://localhost:8080/"
        },
        "id": "uEAu1DIvF7OT",
        "outputId": "6fdd5529-dd38-41f5-cc80-f9470cd17e8b"
      },
      "execution_count": null,
      "outputs": [
        {
          "output_type": "stream",
          "name": "stdout",
          "text": [
            "Mounted at /content/drive\n"
          ]
        }
      ]
    },
    {
      "cell_type": "code",
      "source": [
        "from google.colab import files\n",
        "f=files.upload()"
      ],
      "metadata": {
        "colab": {
          "base_uri": "https://localhost:8080/",
          "height": 74
        },
        "id": "dP8r9K1LF_Yy",
        "outputId": "ac4e11a4-d7b4-4e5c-8aa6-2d287c6e755f"
      },
      "execution_count": null,
      "outputs": [
        {
          "output_type": "display_data",
          "data": {
            "text/plain": [
              "<IPython.core.display.HTML object>"
            ],
            "text/html": [
              "\n",
              "     <input type=\"file\" id=\"files-f2299285-e2a3-4985-a0ab-772f28fe083c\" name=\"files[]\" multiple disabled\n",
              "        style=\"border:none\" />\n",
              "     <output id=\"result-f2299285-e2a3-4985-a0ab-772f28fe083c\">\n",
              "      Upload widget is only available when the cell has been executed in the\n",
              "      current browser session. Please rerun this cell to enable.\n",
              "      </output>\n",
              "      <script>// Copyright 2017 Google LLC\n",
              "//\n",
              "// Licensed under the Apache License, Version 2.0 (the \"License\");\n",
              "// you may not use this file except in compliance with the License.\n",
              "// You may obtain a copy of the License at\n",
              "//\n",
              "//      http://www.apache.org/licenses/LICENSE-2.0\n",
              "//\n",
              "// Unless required by applicable law or agreed to in writing, software\n",
              "// distributed under the License is distributed on an \"AS IS\" BASIS,\n",
              "// WITHOUT WARRANTIES OR CONDITIONS OF ANY KIND, either express or implied.\n",
              "// See the License for the specific language governing permissions and\n",
              "// limitations under the License.\n",
              "\n",
              "/**\n",
              " * @fileoverview Helpers for google.colab Python module.\n",
              " */\n",
              "(function(scope) {\n",
              "function span(text, styleAttributes = {}) {\n",
              "  const element = document.createElement('span');\n",
              "  element.textContent = text;\n",
              "  for (const key of Object.keys(styleAttributes)) {\n",
              "    element.style[key] = styleAttributes[key];\n",
              "  }\n",
              "  return element;\n",
              "}\n",
              "\n",
              "// Max number of bytes which will be uploaded at a time.\n",
              "const MAX_PAYLOAD_SIZE = 100 * 1024;\n",
              "\n",
              "function _uploadFiles(inputId, outputId) {\n",
              "  const steps = uploadFilesStep(inputId, outputId);\n",
              "  const outputElement = document.getElementById(outputId);\n",
              "  // Cache steps on the outputElement to make it available for the next call\n",
              "  // to uploadFilesContinue from Python.\n",
              "  outputElement.steps = steps;\n",
              "\n",
              "  return _uploadFilesContinue(outputId);\n",
              "}\n",
              "\n",
              "// This is roughly an async generator (not supported in the browser yet),\n",
              "// where there are multiple asynchronous steps and the Python side is going\n",
              "// to poll for completion of each step.\n",
              "// This uses a Promise to block the python side on completion of each step,\n",
              "// then passes the result of the previous step as the input to the next step.\n",
              "function _uploadFilesContinue(outputId) {\n",
              "  const outputElement = document.getElementById(outputId);\n",
              "  const steps = outputElement.steps;\n",
              "\n",
              "  const next = steps.next(outputElement.lastPromiseValue);\n",
              "  return Promise.resolve(next.value.promise).then((value) => {\n",
              "    // Cache the last promise value to make it available to the next\n",
              "    // step of the generator.\n",
              "    outputElement.lastPromiseValue = value;\n",
              "    return next.value.response;\n",
              "  });\n",
              "}\n",
              "\n",
              "/**\n",
              " * Generator function which is called between each async step of the upload\n",
              " * process.\n",
              " * @param {string} inputId Element ID of the input file picker element.\n",
              " * @param {string} outputId Element ID of the output display.\n",
              " * @return {!Iterable<!Object>} Iterable of next steps.\n",
              " */\n",
              "function* uploadFilesStep(inputId, outputId) {\n",
              "  const inputElement = document.getElementById(inputId);\n",
              "  inputElement.disabled = false;\n",
              "\n",
              "  const outputElement = document.getElementById(outputId);\n",
              "  outputElement.innerHTML = '';\n",
              "\n",
              "  const pickedPromise = new Promise((resolve) => {\n",
              "    inputElement.addEventListener('change', (e) => {\n",
              "      resolve(e.target.files);\n",
              "    });\n",
              "  });\n",
              "\n",
              "  const cancel = document.createElement('button');\n",
              "  inputElement.parentElement.appendChild(cancel);\n",
              "  cancel.textContent = 'Cancel upload';\n",
              "  const cancelPromise = new Promise((resolve) => {\n",
              "    cancel.onclick = () => {\n",
              "      resolve(null);\n",
              "    };\n",
              "  });\n",
              "\n",
              "  // Wait for the user to pick the files.\n",
              "  const files = yield {\n",
              "    promise: Promise.race([pickedPromise, cancelPromise]),\n",
              "    response: {\n",
              "      action: 'starting',\n",
              "    }\n",
              "  };\n",
              "\n",
              "  cancel.remove();\n",
              "\n",
              "  // Disable the input element since further picks are not allowed.\n",
              "  inputElement.disabled = true;\n",
              "\n",
              "  if (!files) {\n",
              "    return {\n",
              "      response: {\n",
              "        action: 'complete',\n",
              "      }\n",
              "    };\n",
              "  }\n",
              "\n",
              "  for (const file of files) {\n",
              "    const li = document.createElement('li');\n",
              "    li.append(span(file.name, {fontWeight: 'bold'}));\n",
              "    li.append(span(\n",
              "        `(${file.type || 'n/a'}) - ${file.size} bytes, ` +\n",
              "        `last modified: ${\n",
              "            file.lastModifiedDate ? file.lastModifiedDate.toLocaleDateString() :\n",
              "                                    'n/a'} - `));\n",
              "    const percent = span('0% done');\n",
              "    li.appendChild(percent);\n",
              "\n",
              "    outputElement.appendChild(li);\n",
              "\n",
              "    const fileDataPromise = new Promise((resolve) => {\n",
              "      const reader = new FileReader();\n",
              "      reader.onload = (e) => {\n",
              "        resolve(e.target.result);\n",
              "      };\n",
              "      reader.readAsArrayBuffer(file);\n",
              "    });\n",
              "    // Wait for the data to be ready.\n",
              "    let fileData = yield {\n",
              "      promise: fileDataPromise,\n",
              "      response: {\n",
              "        action: 'continue',\n",
              "      }\n",
              "    };\n",
              "\n",
              "    // Use a chunked sending to avoid message size limits. See b/62115660.\n",
              "    let position = 0;\n",
              "    do {\n",
              "      const length = Math.min(fileData.byteLength - position, MAX_PAYLOAD_SIZE);\n",
              "      const chunk = new Uint8Array(fileData, position, length);\n",
              "      position += length;\n",
              "\n",
              "      const base64 = btoa(String.fromCharCode.apply(null, chunk));\n",
              "      yield {\n",
              "        response: {\n",
              "          action: 'append',\n",
              "          file: file.name,\n",
              "          data: base64,\n",
              "        },\n",
              "      };\n",
              "\n",
              "      let percentDone = fileData.byteLength === 0 ?\n",
              "          100 :\n",
              "          Math.round((position / fileData.byteLength) * 100);\n",
              "      percent.textContent = `${percentDone}% done`;\n",
              "\n",
              "    } while (position < fileData.byteLength);\n",
              "  }\n",
              "\n",
              "  // All done.\n",
              "  yield {\n",
              "    response: {\n",
              "      action: 'complete',\n",
              "    }\n",
              "  };\n",
              "}\n",
              "\n",
              "scope.google = scope.google || {};\n",
              "scope.google.colab = scope.google.colab || {};\n",
              "scope.google.colab._files = {\n",
              "  _uploadFiles,\n",
              "  _uploadFilesContinue,\n",
              "};\n",
              "})(self);\n",
              "</script> "
            ]
          },
          "metadata": {}
        },
        {
          "output_type": "stream",
          "name": "stdout",
          "text": [
            "Saving heart - 079_Shruti Dubey.csv to heart - 079_Shruti Dubey.csv\n"
          ]
        }
      ]
    },
    {
      "cell_type": "code",
      "source": [
        "#Reading the dataset\n",
        "dataset = pd.read_csv('heart - 079_Shruti Dubey.csv')\n",
        "X = dataset.iloc[:, 0:13].values\n",
        "y = dataset.iloc[:, 13].values"
      ],
      "metadata": {
        "id": "FfzwowbmG1i9"
      },
      "execution_count": null,
      "outputs": []
    },
    {
      "cell_type": "code",
      "source": [
        "X"
      ],
      "metadata": {
        "colab": {
          "base_uri": "https://localhost:8080/"
        },
        "id": "DOCxgHFFG5lg",
        "outputId": "72df64e0-0edf-4c51-9780-87f6b917d11f"
      },
      "execution_count": null,
      "outputs": [
        {
          "output_type": "execute_result",
          "data": {
            "text/plain": [
              "array([[63.,  1.,  3., ...,  0.,  0.,  1.],\n",
              "       [37.,  1.,  2., ...,  0.,  0.,  2.],\n",
              "       [41.,  0.,  1., ...,  2.,  0.,  2.],\n",
              "       ...,\n",
              "       [68.,  1.,  0., ...,  1.,  2.,  3.],\n",
              "       [57.,  1.,  0., ...,  1.,  1.,  3.],\n",
              "       [57.,  0.,  1., ...,  1.,  1.,  2.]])"
            ]
          },
          "metadata": {},
          "execution_count": 4
        }
      ]
    },
    {
      "cell_type": "code",
      "source": [
        "X_train, X_test, y_train, y_test = train_test_split(X, y, test_size = 0.15, random_state = 0, stratify = y)"
      ],
      "metadata": {
        "id": "DkLozArkYKjM"
      },
      "execution_count": null,
      "outputs": []
    },
    {
      "cell_type": "code",
      "source": [
        "sc = StandardScaler()\n",
        "X_train = sc.fit_transform(X_train)\n",
        "X_test = sc.transform(X_test)"
      ],
      "metadata": {
        "id": "FUYH7G5NYbjT"
      },
      "execution_count": null,
      "outputs": []
    },
    {
      "cell_type": "code",
      "source": [
        "X_train"
      ],
      "metadata": {
        "colab": {
          "base_uri": "https://localhost:8080/"
        },
        "id": "33NhrvbdYhct",
        "outputId": "ff891747-b4fd-4b56-8e16-1138c6e7df26"
      },
      "execution_count": null,
      "outputs": [
        {
          "output_type": "execute_result",
          "data": {
            "text/plain": [
              "array([[ 0.60081455,  0.65404723,  1.00896006, ..., -0.63306357,\n",
              "        -0.71660877, -0.48575743],\n",
              "       [ 1.04837785, -1.52894157, -0.92613498, ..., -0.63306357,\n",
              "         1.22200653, -0.48575743],\n",
              "       [ 0.3770329 ,  0.65404723, -0.92613498, ..., -0.63306357,\n",
              "         2.19131417,  1.11475104],\n",
              "       ...,\n",
              "       [ 0.8245962 , -1.52894157, -0.92613498, ...,  0.9939098 ,\n",
              "        -0.71660877, -0.48575743],\n",
              "       [ 1.16026867,  0.65404723, -0.92613498, ...,  0.9939098 ,\n",
              "        -0.71660877,  1.11475104],\n",
              "       [ 1.16026867, -1.52894157, -0.92613498, ..., -0.63306357,\n",
              "         2.19131417,  1.11475104]])"
            ]
          },
          "metadata": {},
          "execution_count": 8
        }
      ]
    },
    {
      "cell_type": "code",
      "source": [
        "model1 = LogisticRegression()\n",
        "model2 = DecisionTreeClassifier(max_depth = 2)\n",
        "model3 = SVC()\n",
        "model4 = KNeighborsClassifier(n_neighbors = 5, metric = 'minkowski', p = 2)\n",
        "model5 = GaussianNB()"
      ],
      "metadata": {
        "id": "TeZfP6ziYlUl"
      },
      "execution_count": null,
      "outputs": []
    },
    {
      "cell_type": "code",
      "source": [
        "model1.fit(X_train, y_train)\n",
        "model2.fit(X_train, y_train)\n",
        "model3.fit(X_train, y_train)\n",
        "model4.fit(X_train, y_train)\n",
        "model5.fit(X_train, y_train)"
      ],
      "metadata": {
        "colab": {
          "base_uri": "https://localhost:8080/"
        },
        "id": "zxAxtaXXYxOC",
        "outputId": "5a142b0b-1cfd-4368-e940-2a830a67dfff"
      },
      "execution_count": null,
      "outputs": [
        {
          "output_type": "execute_result",
          "data": {
            "text/plain": [
              "GaussianNB()"
            ]
          },
          "metadata": {},
          "execution_count": 10
        }
      ]
    },
    {
      "cell_type": "code",
      "source": [
        "y_pred1 = model1.predict(X_test)\n",
        "y_pred2 = model2.predict(X_test)\n",
        "y_pred3 = model3.predict(X_test)\n",
        "y_pred4 = model4.predict(X_test)\n",
        "y_pred5 = model5.predict(X_test)"
      ],
      "metadata": {
        "id": "ePgbVC8FYzXt"
      },
      "execution_count": null,
      "outputs": []
    },
    {
      "cell_type": "code",
      "source": [
        "kfold = model_selection.KFold(n_splits=10, random_state = 0, shuffle=True)\n"
      ],
      "metadata": {
        "id": "R7gblYT9Y4Ih"
      },
      "execution_count": null,
      "outputs": []
    },
    {
      "cell_type": "code",
      "source": [
        "result1 = model_selection.cross_val_score(model1, X_train, y_train, cv=kfold)\n",
        "result2 = model_selection.cross_val_score(model2, X_train, y_train, cv=kfold)\n",
        "result3 = model_selection.cross_val_score(model3, X_train, y_train, cv=kfold)\n",
        "result4 = model_selection.cross_val_score(model4, X_train, y_train, cv=kfold)\n",
        "result5 = model_selection.cross_val_score(model5, X_train, y_train, cv=kfold)"
      ],
      "metadata": {
        "id": "yq6FDst3ZAn5"
      },
      "execution_count": null,
      "outputs": []
    },
    {
      "cell_type": "code",
      "source": [
        "print('Accuracy of Logistic Regression Model = ',result1.mean())\n",
        "print('CLASSIFICATION REPORT OF LINEAR REGRESSION MODEL')\n",
        "print(metrics.classification_report(y_test, y_pred1))\n",
        "cm1=confusion_matrix(y_test, y_pred1, labels=model1.classes_)\n",
        "disp = ConfusionMatrixDisplay(confusion_matrix=cm1, display_labels=model1.classes_)\n",
        "disp.plot()\n",
        "plt.show()\n"
      ],
      "metadata": {
        "colab": {
          "base_uri": "https://localhost:8080/",
          "height": 475
        },
        "id": "jo6h9E5fZXFr",
        "outputId": "275937ef-5290-49c1-aaa2-a09e805f7515"
      },
      "execution_count": null,
      "outputs": [
        {
          "output_type": "stream",
          "name": "stdout",
          "text": [
            "Accuracy of Logistic Regression Model =  0.8170769230769231\n",
            "CLASSIFICATION REPORT OF LINEAR REGRESSION MODEL\n",
            "              precision    recall  f1-score   support\n",
            "\n",
            "           0       0.85      0.81      0.83        21\n",
            "           1       0.85      0.88      0.86        25\n",
            "\n",
            "    accuracy                           0.85        46\n",
            "   macro avg       0.85      0.84      0.85        46\n",
            "weighted avg       0.85      0.85      0.85        46\n",
            "\n"
          ]
        },
        {
          "output_type": "display_data",
          "data": {
            "text/plain": [
              "<Figure size 432x288 with 2 Axes>"
            ],
            "image/png": "[encoded data removed]"
          },
          "metadata": {
            "needs_background": "light"
          }
        }
      ]
    },
    {
      "cell_type": "code",
      "source": [
        "print('Accuracy of Decision Tree Classifer = ',result2.mean())\n",
        "print('CLASSIFICATION REPORT OF Decision Tree Classification Model')\n",
        "print(metrics.classification_report(y_test, y_pred2))\n",
        "cm2=confusion_matrix(y_test, y_pred2, labels=model2.classes_)\n",
        "disp = ConfusionMatrixDisplay(confusion_matrix=cm2, display_labels=model2.classes_)\n",
        "disp.plot()\n",
        "plt.show()"
      ],
      "metadata": {
        "colab": {
          "base_uri": "https://localhost:8080/",
          "height": 479
        },
        "id": "UlPMNApvuk6E",
        "outputId": "6e878f7a-40c1-4414-e6c3-c0734a63ca62"
      },
      "execution_count": null,
      "outputs": [
        {
          "output_type": "stream",
          "name": "stdout",
          "text": [
            "Accuracy of Decision Tree Classifer =  0.6929230769230769\n",
            "CLASSIFICATION REPORT OF Decision Tree Classification Model\n",
            "              precision    recall  f1-score   support\n",
            "\n",
            "           0       1.00      0.57      0.73        21\n",
            "           1       0.74      1.00      0.85        25\n",
            "\n",
            "    accuracy                           0.80        46\n",
            "   macro avg       0.87      0.79      0.79        46\n",
            "weighted avg       0.86      0.80      0.79        46\n",
            "\n"
          ]
        },
        {
          "output_type": "display_data",
          "data": {
            "text/plain": [
              "<Figure size 432x288 with 2 Axes>"
            ],
            "image/png": "[encoded data removed]"
          },
          "metadata": {
            "needs_background": "light"
          }
        }
      ]
    },
    {
      "cell_type": "code",
      "source": [
        "print('Accuracy of Support Vector Classifer = ',result3.mean())\n",
        "print('CLASSIFICATION REPORT OF Support Vector Classification MODEL')\n",
        "print(metrics.classification_report(y_test, y_pred3))\n",
        "cm3=confusion_matrix(y_test, y_pred3, labels=model3.classes_)\n",
        "disp = ConfusionMatrixDisplay(confusion_matrix=cm3, display_labels=model3.classes_)\n",
        "disp.plot()\n",
        "plt.show()"
      ],
      "metadata": {
        "id": "oo1WdBgWu0kG",
        "colab": {
          "base_uri": "https://localhost:8080/",
          "height": 475
        },
        "outputId": "2158293a-2cf5-4b5b-aa13-565c60fd797a"
      },
      "execution_count": null,
      "outputs": [
        {
          "output_type": "stream",
          "name": "stdout",
          "text": [
            "Accuracy of Support Vector Classifer =  0.7858461538461537\n",
            "CLASSIFICATION REPORT OF Support Vector Classification MODEL\n",
            "              precision    recall  f1-score   support\n",
            "\n",
            "           0       0.89      0.81      0.85        21\n",
            "           1       0.85      0.92      0.88        25\n",
            "\n",
            "    accuracy                           0.87        46\n",
            "   macro avg       0.87      0.86      0.87        46\n",
            "weighted avg       0.87      0.87      0.87        46\n",
            "\n"
          ]
        },
        {
          "output_type": "display_data",
          "data": {
            "text/plain": [
              "<Figure size 432x288 with 2 Axes>"
            ],
            "image/png": "[encoded data removed]"
          },
          "metadata": {
            "needs_background": "light"
          }
        }
      ]
    },
    {
      "cell_type": "code",
      "source": [
        "print('Accuracy of K-Neighbour Classifer = ',result4.mean())\n",
        "print('CLASSIFICATION REPORT OF K-Neighbour Classification MODEL')\n",
        "print(metrics.classification_report(y_test, y_pred4))\n",
        "cm4=confusion_matrix(y_test, y_pred4, labels=model4.classes_)\n",
        "disp = ConfusionMatrixDisplay(confusion_matrix=cm4, display_labels=model4.classes_)\n",
        "disp.plot()\n",
        "plt.show()"
      ],
      "metadata": {
        "colab": {
          "base_uri": "https://localhost:8080/",
          "height": 475
        },
        "id": "oMR6_mQgB4mn",
        "outputId": "bf8a9e97-b84e-469e-9a82-0fbe95e690d6"
      },
      "execution_count": null,
      "outputs": [
        {
          "output_type": "stream",
          "name": "stdout",
          "text": [
            "Accuracy of K-Neighbour Classifer =  0.8172307692307692\n",
            "CLASSIFICATION REPORT OF K-Neighbour Classification MODEL\n",
            "              precision    recall  f1-score   support\n",
            "\n",
            "           0       0.88      0.71      0.79        21\n",
            "           1       0.79      0.92      0.85        25\n",
            "\n",
            "    accuracy                           0.83        46\n",
            "   macro avg       0.84      0.82      0.82        46\n",
            "weighted avg       0.83      0.83      0.82        46\n",
            "\n"
          ]
        },
        {
          "output_type": "display_data",
          "data": {
            "text/plain": [
              "<Figure size 432x288 with 2 Axes>"
            ],
            "image/png": "[encoded data removed]"
          },
          "metadata": {
            "needs_background": "light"
          }
        }
      ]
    },
    {
      "cell_type": "code",
      "source": [
        "print('Accuracy of Naive Bayes Classifer = ',result5.mean())\n",
        "print('CLASSIFICATION REPORT OF Naive Bayes Classification MODEL')\n",
        "print(metrics.classification_report(y_test, y_pred5))\n",
        "cm5=confusion_matrix(y_test, y_pred5, labels=model5.classes_)\n",
        "disp = ConfusionMatrixDisplay(confusion_matrix=cm5, display_labels=model5.classes_)\n",
        "disp.plot()\n",
        "plt.show()"
      ],
      "metadata": {
        "colab": {
          "base_uri": "https://localhost:8080/",
          "height": 475
        },
        "id": "V6q-sV87CKT0",
        "outputId": "2ea8c0eb-777f-459d-f44c-666f33513bf6"
      },
      "execution_count": null,
      "outputs": [
        {
          "output_type": "stream",
          "name": "stdout",
          "text": [
            "Accuracy of Naive Bayes Classifer =  0.8127692307692307\n",
            "CLASSIFICATION REPORT OF Naive Bayes Classification MODEL\n",
            "              precision    recall  f1-score   support\n",
            "\n",
            "           0       0.84      0.76      0.80        21\n",
            "           1       0.81      0.88      0.85        25\n",
            "\n",
            "    accuracy                           0.83        46\n",
            "   macro avg       0.83      0.82      0.82        46\n",
            "weighted avg       0.83      0.83      0.83        46\n",
            "\n"
          ]
        },
        {
          "output_type": "display_data",
          "data": {
            "text/plain": [
              "<Figure size 432x288 with 2 Axes>"
            ],
            "image/png": "[encoded data removed]"
          },
          "metadata": {
            "needs_background": "light"
          }
        }
      ]
    },
    {
      "cell_type": "code",
      "source": [
        "estimators = []\n",
        "model6 = LogisticRegression(penalty = 'l2', random_state = 0)\n",
        "estimators.append(('logistic1', model6))\n",
        "model7 = DecisionTreeClassifier(max_depth = 3)\n",
        "estimators.append(('cart1', model7))\n",
        "model8 = SVC(kernel = 'linear')\n",
        "estimators.append(('svm1', model8))\n",
        "model9 = KNeighborsClassifier(n_neighbors = 5, metric = 'minkowski', p = 2)\n",
        "estimators.append(('knn1', model9))\n",
        "model10 = GaussianNB()\n",
        "estimators.append(('nbs1', model10))"
      ],
      "metadata": {
        "id": "KzxC9_1gY-xF"
      },
      "execution_count": null,
      "outputs": []
    },
    {
      "cell_type": "code",
      "source": [
        "ensemble1 = VotingClassifier(estimators)\n",
        "ensemble1.fit(X_train, y_train)\n",
        "y_pred = ensemble1.predict(X_test)"
      ],
      "metadata": {
        "id": "4BMEATZpZ5Th"
      },
      "execution_count": null,
      "outputs": []
    },
    {
      "cell_type": "code",
      "source": [
        "#Cross-Validation\n",
        "seed = 7\n",
        "kfold = model_selection.KFold(n_splits=10, random_state=seed, shuffle=True)\n",
        "results = model_selection.cross_val_score(ensemble1, X_train, y_train, cv=kfold)\n",
        "print(results.mean())"
      ],
      "metadata": {
        "colab": {
          "base_uri": "https://localhost:8080/"
        },
        "id": "Ii4x2j1HavqU",
        "outputId": "6184733a-b6c4-4007-ec03-c23188d8b74a"
      },
      "execution_count": null,
      "outputs": [
        {
          "output_type": "stream",
          "name": "stdout",
          "text": [
            "0.8175384615384615\n"
          ]
        }
      ]
    },
    {
      "cell_type": "code",
      "source": [
        "print('Accuracy of Ensemble Model = ',results.mean())\n",
        "print('CLASSIFICATION REPORT OF Ensemble MODEL')\n",
        "print(metrics.classification_report(y_test, y_pred5))\n",
        "cm5=confusion_matrix(y_test, y_pred5, labels=model5.classes_)\n",
        "disp = ConfusionMatrixDisplay(confusion_matrix=cm5, display_labels=model5.classes_)\n",
        "disp.plot()\n",
        "plt.show()"
      ],
      "metadata": {
        "colab": {
          "base_uri": "https://localhost:8080/",
          "height": 475
        },
        "id": "NjWS6b7va9_i",
        "outputId": "d4ce3721-13ce-4d3b-ad5f-38d3608a1dec"
      },
      "execution_count": null,
      "outputs": [
        {
          "output_type": "stream",
          "name": "stdout",
          "text": [
            "Accuracy of Ensemble Model =  0.8175384615384615\n",
            "CLASSIFICATION REPORT OF Ensemble MODEL\n",
            "              precision    recall  f1-score   support\n",
            "\n",
            "           0       0.84      0.76      0.80        21\n",
            "           1       0.81      0.88      0.85        25\n",
            "\n",
            "    accuracy                           0.83        46\n",
            "   macro avg       0.83      0.82      0.82        46\n",
            "weighted avg       0.83      0.83      0.83        46\n",
            "\n"
          ]
        },
        {
          "output_type": "display_data",
          "data": {
            "text/plain": [
              "<Figure size 432x288 with 2 Axes>"
            ],
            "image/png": "[encoded data removed]"
          },
          "metadata": {
            "needs_background": "light"
          }
        }
      ]
    },
    {
      "cell_type": "code",
      "source": [
        "import numpy as np\n",
        "import matplotlib.pyplot as plt\n",
        "# set width of bar\n",
        "barWidth = 0.20\n",
        "fig = plt.subplots(figsize =(20, 15))\n",
        "# set height of bar\n",
        "accuracy = [0.8170769230769231, 0.6929230769230769, 0.7858461538461537, 0.8172307692307692, 0.8127692307692307,0.8175384615384615]\n",
        "precision = [0.85, 0.86, 0.87, 0.83, 0.83,0.83]\n",
        "recall = [0.85, 0.80, 0.87, 0.83, 0.83, 0.83]\n",
        "f1score = [0.85, 0.79, 0.87, 0.82, 0.83, 0.83]\n",
        "\n",
        " \n",
        "# Set position of bar on X axis\n",
        "br1 = np.arange(len(accuracy))\n",
        "br2 = [x + barWidth for x in br1]\n",
        "br3 = [x + barWidth for x in br2]\n",
        "br4 = [x + barWidth for x in br3]\n",
        " \n",
        "# Make the plot\n",
        "plt.bar(br1, accuracy, color ='r', width = barWidth,\n",
        "        edgecolor ='grey', label ='accuracy')\n",
        "plt.bar(br2, precision, color ='g', width = barWidth,\n",
        "        edgecolor ='grey', label ='precision')\n",
        "plt.bar(br3, recall, color ='b', width = barWidth,\n",
        "        edgecolor ='grey', label ='recall')\n",
        "plt.bar(br4, f1score, color ='y', width = barWidth,\n",
        "        edgecolor ='grey', label ='f1 score')\n",
        "plt.xticks([r + barWidth for r in range(len(accuracy))],\n",
        "        ['LR', 'DTC','SVC', 'KNN', 'NBC', 'ENSEMBLE'])\n",
        " \n",
        "plt.legend()\n",
        "plt.show()"
      ],
      "metadata": {
        "colab": {
          "base_uri": "https://localhost:8080/",
          "height": 863
        },
        "id": "HGU4p5-IbJse",
        "outputId": "fb389aa9-6c6b-4d28-c38e-02f22c164965"
      },
      "execution_count": null,
      "outputs": [
        {
          "output_type": "display_data",
          "data": {
            "text/plain": [
              "<Figure size 1440x1080 with 1 Axes>"
            ],
            "image/png": "[encoded data removed]"
          },
          "metadata": {
            "needs_background": "light"
          }
        }
      ]
    },
    {
      "cell_type": "code",
      "source": [
        "# get a list of models to evaluate\n",
        "def get_models():\n",
        "\tmodels = list()\n",
        "\tmodels.append(('lr', LogisticRegression()))\n",
        "\tmodels.append(('knn', KNeighborsClassifier()))\n",
        "\tmodels.append(('tree', DecisionTreeClassifier()))\n",
        "\tmodels.append(('nb', GaussianNB()))\n",
        "\tmodels.append(('svm', SVC(probability=True)))\n",
        "\treturn models"
      ],
      "metadata": {
        "id": "IO7F6JbyHDeS"
      },
      "execution_count": null,
      "outputs": []
    },
    {
      "cell_type": "code",
      "source": [
        "# evaluate a list of models\n",
        "\n",
        "def evaluate_ensemble(models, X_train, y_train):\n",
        "\t# check for no models\n",
        "\tif len(models) == 0:\n",
        "\t\treturn 0.0\n",
        "\t# create the ensemble\n",
        "\tensemble = VotingClassifier(estimators=models, voting='soft')\n",
        "\n",
        "\n",
        "\tscores = model_selection.cross_val_score(ensemble,  X_train, y_train, cv=kfold)\n",
        "\t# return mean score\n",
        "\treturn mean(scores)"
      ],
      "metadata": {
        "id": "HLs67wG0HJZa"
      },
      "execution_count": null,
      "outputs": []
    },
    {
      "cell_type": "code",
      "source": [
        "# perform a single round of pruning the ensemble\n",
        "def prune_round(models_in, X_train, y_train):\n",
        "\t# establish a baseline\n",
        "\tbaseline = evaluate_ensemble(models_in,  X_train, y_train)\n",
        "\tbest_score, removed = baseline, None\n",
        "\t# enumerate removing each candidate and see if we can improve performance\n",
        "\tfor m in models_in:\n",
        "\t\t# copy the list of chosen models\n",
        "\t\tdup = models_in.copy()\n",
        "\t\t# remove this model\n",
        "\t\tdup.remove(m)\n",
        "\t\t# evaluate new ensemble\n",
        "\t\tresult = evaluate_ensemble(dup, X_train, y_train)\n",
        "\t\t# check for new best\n",
        "\t\tif result > best_score:\n",
        "\t\t\t# store the new best\n",
        "\t\t\tbest_score, removed = result, m\n",
        "\treturn best_score, removed"
      ],
      "metadata": {
        "id": "be0IuLoyHTtN"
      },
      "execution_count": null,
      "outputs": []
    },
    {
      "cell_type": "code",
      "source": [
        "# prune an ensemble from scratch\n",
        "def prune_ensemble(models, X_train, y_train):\n",
        "\tbest_score = 0.0\n",
        "\t# prune ensemble until no further improvement\n",
        "\twhile True:\n",
        "\t\t# remove one model to the ensemble\n",
        "\t\tscore, removed = prune_round(models, X_train, y_train)\n",
        "\t\t# check for no improvement\n",
        "\t\tif removed is None:\n",
        "\t\t\tprint('>no further improvement')\n",
        "\t\t\tbreak\n",
        "\t\t# keep track of best score\n",
        "\t\tbest_score = score\n",
        "\t\t# remove model from the list\n",
        "\t\tmodels.remove(removed)\n",
        "\t\t# report results along the way\n",
        "\t\tprint('>%.3f (removed: %s)' % (score, removed[0]))\n",
        "\treturn best_score, models"
      ],
      "metadata": {
        "id": "aSWHWZiLHaf8"
      },
      "execution_count": null,
      "outputs": []
    },
    {
      "cell_type": "code",
      "source": [
        "# get the models to evaluate\n",
        "models = get_models()\n",
        "# prune the ensemble\n",
        "score, m = prune_ensemble(models, X_train, y_train)\n",
        "names = ','.join([n for n,_ in m])\n",
        "print('Models: %s' % names)\n",
        "print('Final Mean Accuracy: %.3f' % score)"
      ],
      "metadata": {
        "id": "pfdlxIq6HlpH",
        "colab": {
          "base_uri": "https://localhost:8080/"
        },
        "outputId": "3a726aff-b71f-48ce-bba6-a6172f75e6f8"
      },
      "execution_count": null,
      "outputs": [
        {
          "output_type": "stream",
          "name": "stdout",
          "text": [
            ">0.841 (removed: tree)\n",
            ">0.849 (removed: svm)\n",
            ">no further improvement\n",
            "Models: lr,knn,nb\n",
            "Final Mean Accuracy: 0.849\n"
          ]
        }
      ]
    },
    {
      "cell_type": "code",
      "source": [
        "ensemble= VotingClassifier(m)"
      ],
      "metadata": {
        "id": "TlaQ8EgVcMob"
      },
      "execution_count": null,
      "outputs": []
    },
    {
      "cell_type": "code",
      "source": [
        "ensemble.fit(X_train, y_train)"
      ],
      "metadata": {
        "colab": {
          "base_uri": "https://localhost:8080/"
        },
        "id": "YNk1PnE0fPz_",
        "outputId": "135fdcf7-3782-4fd9-b39a-8b3d7ac19d75"
      },
      "execution_count": null,
      "outputs": [
        {
          "output_type": "execute_result",
          "data": {
            "text/plain": [
              "VotingClassifier(estimators=[('lr', LogisticRegression()),\n",
              "                             ('knn', KNeighborsClassifier()),\n",
              "                             ('nb', GaussianNB())])"
            ]
          },
          "metadata": {},
          "execution_count": 32
        }
      ]
    },
    {
      "cell_type": "code",
      "source": [
        "y_pre1 = ensemble.predict(X_test)\n",
        "print('Accuracy of ensemble = ',score.mean())"
      ],
      "metadata": {
        "colab": {
          "base_uri": "https://localhost:8080/"
        },
        "id": "WAeOaYKYfXDl",
        "outputId": "471e63c8-f42f-4bc4-a7cb-3a114d773b54"
      },
      "execution_count": null,
      "outputs": [
        {
          "output_type": "stream",
          "name": "stdout",
          "text": [
            "Accuracy of ensemble =  0.8486153846153848\n"
          ]
        }
      ]
    },
    {
      "cell_type": "code",
      "source": [
        "print('CLASSIFICATION REPORT OF ENSEMBLE MODEL')\n",
        "print(metrics.classification_report(y_test, y_pre1))"
      ],
      "metadata": {
        "colab": {
          "base_uri": "https://localhost:8080/"
        },
        "id": "klWQ1R6XaI1r",
        "outputId": "9bfed994-144c-4753-f1f1-077227d30615"
      },
      "execution_count": null,
      "outputs": [
        {
          "output_type": "stream",
          "name": "stdout",
          "text": [
            "CLASSIFICATION REPORT OF ENSEMBLE MODEL\n",
            "              precision    recall  f1-score   support\n",
            "\n",
            "           0       0.89      0.76      0.82        21\n",
            "           1       0.82      0.92      0.87        25\n",
            "\n",
            "    accuracy                           0.85        46\n",
            "   macro avg       0.86      0.84      0.84        46\n",
            "weighted avg       0.85      0.85      0.85        46\n",
            "\n"
          ]
        }
      ]
    },
    {
      "cell_type": "code",
      "source": [
        "from sklearn.metrics._plot.confusion_matrix import ConfusionMatrixDisplay\n",
        "cm=confusion_matrix(y_test, y_pre1, labels=ensemble.classes_)\n",
        "disp = ConfusionMatrixDisplay(confusion_matrix=cm, display_labels=ensemble.classes_)\n",
        "disp.plot()\n",
        "plt.show()"
      ],
      "metadata": {
        "colab": {
          "base_uri": "https://localhost:8080/",
          "height": 279
        },
        "id": "fUhfGYFqksx9",
        "outputId": "a00c6ab9-f0b2-4d0d-8a48-a5dc29ab9a00"
      },
      "execution_count": null,
      "outputs": [
        {
          "output_type": "display_data",
          "data": {
            "text/plain": [
              "<Figure size 432x288 with 2 Axes>"
            ],
            "image/png": "[encoded data removed]"
          },
          "metadata": {
            "needs_background": "light"
          }
        }
      ]
    },
    {
      "cell_type": "code",
      "source": [
        "# perform a single round of growing the ensemble\n",
        "def grow_round(models_in, models_candidate,X_train, y_train):\n",
        "\t# establish a baseline\n",
        "\tbaseline = evaluate_ensemble(models_in,X_train, y_train)\n",
        "\tbest_score, addition = baseline, None\n",
        "\t# enumerate adding each candidate and see if we can improve performance\n",
        "\tfor m in models_candidate:\n",
        "\t\t# copy the list of chosen models\n",
        "\t\tdup = models_in.copy()\n",
        "\t\t# add the candidate\n",
        "\t\tdup.append(m)\n",
        "\t\t# evaluate new ensemble\n",
        "\t\tresult = evaluate_ensemble(dup,X_train, y_train)\n",
        "\t\t# check for new best\n",
        "\t\tif result > best_score:\n",
        "\t\t\t# store the new best\n",
        "\t\t\tbest_score, addition = result, m\n",
        "\treturn best_score, addition"
      ],
      "metadata": {
        "id": "E2Sfmh1nIGml"
      },
      "execution_count": null,
      "outputs": []
    },
    {
      "cell_type": "code",
      "source": [
        "# grow an ensemble from scratch\n",
        "def grow_ensemble(models,X_train, y_train):\n",
        "\tbest_score, best_list = 0.0, list()\n",
        "\t# grow ensemble until no further improvement\n",
        "\twhile True:\n",
        "\t\t# add one model to the ensemble\n",
        "\t\tscore, addition = grow_round(best_list, models,X_train, y_train)\n",
        "\t\t# check for no improvement\n",
        "\t\tif addition is None:\n",
        "\t\t\tprint('>no further improvement')\n",
        "\t\t\tbreak\n",
        "\t\t# keep track of best score\n",
        "\t\tbest_score = score\n",
        "\t\t# remove new model from the list of candidates\n",
        "\t\tmodels.remove(addition)\n",
        "\t\t# add new model to the list of models in the ensemble\n",
        "\t\tbest_list.append(addition)\n",
        "\t\t# report results along the way\n",
        "\t\tnames = ','.join([n for n,_ in best_list])\n",
        "\t\tprint('>%.3f (%s)' % (score, names))\n",
        "\treturn best_score, best_list"
      ],
      "metadata": {
        "id": "hRaA1RZfIOSF"
      },
      "execution_count": null,
      "outputs": []
    },
    {
      "cell_type": "code",
      "source": [
        "# get the models to evaluate\n",
        "models = get_models()\n",
        "# grow the ensemble\n",
        "score, model_list = grow_ensemble(models, X_train, y_train)\n",
        "names = ','.join([n for n,_ in model_list])\n",
        "print('Models: %s' % names)\n",
        "print('Final Mean Accuracy: %.3f' % score)"
      ],
      "metadata": {
        "colab": {
          "base_uri": "https://localhost:8080/"
        },
        "id": "GKgZU8iGISZP",
        "outputId": "9f52b58b-5c1b-4f5d-ea38-14b423a4a0a5"
      },
      "execution_count": null,
      "outputs": [
        {
          "output_type": "stream",
          "name": "stdout",
          "text": [
            ">0.822 (lr)\n",
            ">0.825 (lr,knn)\n",
            ">0.849 (lr,knn,nb)\n",
            ">no further improvement\n",
            "Models: lr,knn,nb\n",
            "Final Mean Accuracy: 0.849\n"
          ]
        }
      ]
    },
    {
      "cell_type": "code",
      "source": [
        "ensembleGrowing= VotingClassifier(model_list)"
      ],
      "metadata": {
        "id": "MltXmtByDLxc"
      },
      "execution_count": null,
      "outputs": []
    },
    {
      "cell_type": "code",
      "source": [
        "ensembleGrowing.fit(X_train, y_train)"
      ],
      "metadata": {
        "colab": {
          "base_uri": "https://localhost:8080/"
        },
        "id": "A9t9cfm-DLYQ",
        "outputId": "b19ce9bd-93ef-4ff0-f7c1-76d140eb5ab2"
      },
      "execution_count": null,
      "outputs": [
        {
          "output_type": "execute_result",
          "data": {
            "text/plain": [
              "VotingClassifier(estimators=[('lr', LogisticRegression()),\n",
              "                             ('knn', KNeighborsClassifier()),\n",
              "                             ('nb', GaussianNB())])"
            ]
          },
          "metadata": {},
          "execution_count": 40
        }
      ]
    },
    {
      "cell_type": "code",
      "source": [
        "y_pre2 = ensembleGrowing.predict(X_test)\n",
        "print('Accuracy of ensembleGrowing = ',score.mean())"
      ],
      "metadata": {
        "colab": {
          "base_uri": "https://localhost:8080/"
        },
        "id": "cNgRwSTiDtHj",
        "outputId": "499e1b36-f4e5-40d8-de04-15785964aad4"
      },
      "execution_count": null,
      "outputs": [
        {
          "output_type": "stream",
          "name": "stdout",
          "text": [
            "Accuracy of ensembleGrowing =  0.8486153846153848\n"
          ]
        }
      ]
    },
    {
      "cell_type": "code",
      "source": [
        "print('CLASSIFICATION REPORT OF ENSEMBLE MODEL')\n",
        "print(metrics.classification_report(y_test, y_pre2))"
      ],
      "metadata": {
        "colab": {
          "base_uri": "https://localhost:8080/"
        },
        "id": "1caGiDeMDtA3",
        "outputId": "05579309-7305-4eaa-b03b-47d2805fcc0d"
      },
      "execution_count": null,
      "outputs": [
        {
          "output_type": "stream",
          "name": "stdout",
          "text": [
            "CLASSIFICATION REPORT OF ENSEMBLE MODEL\n",
            "              precision    recall  f1-score   support\n",
            "\n",
            "           0       0.89      0.76      0.82        21\n",
            "           1       0.82      0.92      0.87        25\n",
            "\n",
            "    accuracy                           0.85        46\n",
            "   macro avg       0.86      0.84      0.84        46\n",
            "weighted avg       0.85      0.85      0.85        46\n",
            "\n"
          ]
        }
      ]
    },
    {
      "cell_type": "code",
      "source": [
        "cmg=confusion_matrix(y_test, y_pre2, labels=ensembleGrowing.classes_)\n",
        "disp = ConfusionMatrixDisplay(confusion_matrix=cmg, display_labels=ensembleGrowing.classes_)\n",
        "disp.plot()\n",
        "plt.show()"
      ],
      "metadata": {
        "colab": {
          "base_uri": "https://localhost:8080/",
          "height": 279
        },
        "id": "G6MfZs9ZDso0",
        "outputId": "2599a73b-36e3-4832-cdb2-d804e7f94ab1"
      },
      "execution_count": null,
      "outputs": [
        {
          "output_type": "display_data",
          "data": {
            "text/plain": [
              "<Figure size 432x288 with 2 Axes>"
            ],
            "image/png": "[encoded data removed]"
          },
          "metadata": {
            "needs_background": "light"
          }
        }
      ]
    },
    {
      "cell_type": "code",
      "source": [
        "import numpy as np\n",
        "import matplotlib.pyplot as plt\n",
        "# set width of bar\n",
        "barWidth = 0.20\n",
        "fig = plt.subplots(figsize =(20, 15))\n",
        "# set height of bar\n",
        "accuracy = [0.8170769230769231, 0.6929230769230769, 0.7858461538461537, 0.8172307692307692, 0.8127692307692307,0.8404615384615385,0.8404615384615385]\n",
        "precision = [0.85, 0.86, 0.87, 0.83, 0.83, 0.85, 0.85]\n",
        "recall = [0.85, 0.80, 0.87, 0.83, 0.83, 0.85, 0.85]\n",
        "f1score = [0.85, 0.79, 0.87, 0.82, 0.83, 0.85, 0.85]\n",
        "\n",
        " \n",
        "# Set position of bar on X axis\n",
        "br1 = np.arange(len(accuracy))\n",
        "br2 = [x + barWidth for x in br1]\n",
        "br3 = [x + barWidth for x in br2]\n",
        "br4 = [x + barWidth for x in br3]\n",
        " \n",
        "# Make the plot\n",
        "plt.bar(br1, accuracy, color ='r', width = barWidth,\n",
        "        edgecolor ='grey', label ='accuracy')\n",
        "plt.bar(br2, precision, color ='g', width = barWidth,\n",
        "        edgecolor ='grey', label ='precision')\n",
        "plt.bar(br3, recall, color ='b', width = barWidth,\n",
        "        edgecolor ='grey', label ='recall')\n",
        "plt.bar(br4, f1score, color ='y', width = barWidth,\n",
        "        edgecolor ='grey', label ='f1 score')\n",
        "plt.xticks([r + barWidth for r in range(len(accuracy))],\n",
        "        ['LR', 'DTC','SVC', 'KNN', 'NBC', 'PRUNING','GROWING'])\n",
        " \n",
        "plt.legend()\n",
        "plt.show()"
      ],
      "metadata": {
        "colab": {
          "base_uri": "https://localhost:8080/",
          "height": 863
        },
        "id": "vBWOYA-sMT4V",
        "outputId": "5bd3dea2-6dd8-4684-a782-d9e073a68934"
      },
      "execution_count": null,
      "outputs": [
        {
          "output_type": "display_data",
          "data": {
            "text/plain": [
              "<Figure size 1440x1080 with 1 Axes>"
            ],
            "image/png": "[encoded data removed]"
          },
          "metadata": {
            "needs_background": "light"
          }
        }
      ]
    },
    {
      "cell_type": "code",
      "source": [
        "import numpy as np\n",
        "import matplotlib.pyplot as plt\n",
        "# set width of bar\n",
        "barWidth = 0.20\n",
        "fig = plt.subplots(figsize =(20, 15))\n",
        "# set height of bar\n",
        "accuracy = [0.8175384615384615,0.8404615384615385,0.8404615384615385]\n",
        "precision = [0.83, 0.85, 0.85]\n",
        "recall = [0.83, 0.85, 0.85]\n",
        "f1score = [ 0.83, 0.85, 0.85]\n",
        "\n",
        " \n",
        "# Set position of bar on X axis\n",
        "br1 = np.arange(len(accuracy))\n",
        "br2 = [x + barWidth for x in br1]\n",
        "br3 = [x + barWidth for x in br2]\n",
        "br4 = [x + barWidth for x in br3]\n",
        " \n",
        "# Make the plot\n",
        "plt.bar(br1, accuracy, color ='r', width = barWidth,\n",
        "        edgecolor ='grey', label ='accuracy')\n",
        "plt.bar(br2, precision, color ='g', width = barWidth,\n",
        "        edgecolor ='grey', label ='precision')\n",
        "plt.bar(br3, recall, color ='b', width = barWidth,\n",
        "        edgecolor ='grey', label ='recall')\n",
        "plt.bar(br4, f1score, color ='y', width = barWidth,\n",
        "        edgecolor ='grey', label ='f1 score')\n",
        "plt.xticks([r + barWidth for r in range(len(accuracy))],\n",
        "        ['ENSEMBLE', 'PRUNING','GROWING'])\n",
        " \n",
        "plt.legend()\n",
        "plt.show()"
      ],
      "metadata": {
        "id": "HFODRkxpMTvp",
        "colab": {
          "base_uri": "https://localhost:8080/",
          "height": 863
        },
        "outputId": "369af41e-1368-4152-c1c0-20c7e1448b84"
      },
      "execution_count": null,
      "outputs": [
        {
          "output_type": "display_data",
          "data": {
            "text/plain": [
              "<Figure size 1440x1080 with 1 Axes>"
            ],
            "image/png": "[encoded data removed]"
          },
          "metadata": {
            "needs_background": "light"
          }
        }
      ]
    }
  ]
}